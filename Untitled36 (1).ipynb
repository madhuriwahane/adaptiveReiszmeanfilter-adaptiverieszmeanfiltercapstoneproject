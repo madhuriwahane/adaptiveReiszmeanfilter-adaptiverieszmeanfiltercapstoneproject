{
 "cells": [
  {
   "cell_type": "code",
   "execution_count": 1,
   "id": "a10ef023",
   "metadata": {},
   "outputs": [
    {
     "name": "stdout",
     "output_type": "stream",
     "text": [
      "[[ 11  12   8]\n",
      " [ 21   5 255]\n",
      " [  4   8   9]]\n"
     ]
    }
   ],
   "source": [
    "import numpy as np\n",
    "\n",
    "# Step 1: Convert A from uint8 form to double form\n",
    "A = np.array([[11, 12, 8], [21, 5, 255], [0, 8, 9]])\n",
    "A = A.astype(float)\n",
    "\n",
    "# Step 2: For t from 5 to 1\n",
    "for t in range(5, 0, -1):\n",
    "    # Compute the binary matrix B\n",
    "    B = (A > 0).astype(float)\n",
    "   \n",
    "    # Compute A_tilde and B_tilde\n",
    "    A_tilde = np.copy(A)\n",
    "    B_tilde = np.copy(B)\n",
    "   \n",
    "    # For all i and j\n",
    "    for i in range(A.shape[0]):\n",
    "        for j in range(A.shape[1]):\n",
    "            if B[i, j] == 0:\n",
    "                for k in range(1, t+1):\n",
    "                    if np.any(B[i:i+k, j:j+k] != 0):\n",
    "                        # Compute Rm(A_ij_k)\n",
    "                        A_k = A[i:i+k, j:j+k]\n",
    "                        A_k_mean = np.mean(A_k)\n",
    "                        A[i, j] = A_k_mean\n",
    "                        break\n",
    "    # End For\n",
    "# End For\n",
    "\n",
    "# Resulting denoised image A is now in double form, you can convert it back to uint8 if needed\n",
    "A = np.round(A).astype(np.uint8)\n",
    "print(A)"
   ]
  },
  {
   "cell_type": "code",
   "execution_count": null,
   "id": "7050c9d7",
   "metadata": {},
   "outputs": [],
   "source": []
  }
 ],
 "metadata": {
  "kernelspec": {
   "display_name": "Python 3 (ipykernel)",
   "language": "python",
   "name": "python3"
  },
  "language_info": {
   "codemirror_mode": {
    "name": "ipython",
    "version": 3
   },
   "file_extension": ".py",
   "mimetype": "text/x-python",
   "name": "python",
   "nbconvert_exporter": "python",
   "pygments_lexer": "ipython3",
   "version": "3.11.4"
  }
 },
 "nbformat": 4,
 "nbformat_minor": 5
}
